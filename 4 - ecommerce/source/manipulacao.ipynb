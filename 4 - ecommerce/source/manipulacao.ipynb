{
 "cells": [
  {
   "cell_type": "code",
   "execution_count": 1,
   "id": "94cf8165",
   "metadata": {},
   "outputs": [],
   "source": [
    "from pyspark.sql import SparkSession\n",
    "import pyspark.sql.functions as F\n",
    "from pyspark.sql.window import Window\n",
    "import pandas as pd\n",
    "\n",
    "DB_FILEPATH = r'C:\\dados-tcs-itau\\4 - ecommerce\\data\\ecommerce.db'\n",
    "\n",
    "# Cria uma sessão do PySpark\n",
    "spark: SparkSession = (\n",
    "    SparkSession\n",
    "    .builder\n",
    "    .enableHiveSupport() # type: ignore\n",
    "    .config('spark.jars.packages', 'org.xerial:sqlite-jdbc:3.34.0') # type: ignore\n",
    "    .master('local[*]')\n",
    "    .getOrCreate()\n",
    ")"
   ]
  },
  {
   "cell_type": "code",
   "execution_count": 4,
   "id": "43d2c7ff",
   "metadata": {},
   "outputs": [],
   "source": [
    "# Função auxiliar para ler tabelas do SQLite\n",
    "def ler_tabela(nome: str) -> pd.DataFrame:\n",
    "    return (\n",
    "        spark.read\n",
    "    .format('jdbc')\n",
    "    .option('url', f'jdbc:sqlite:{DB_FILEPATH}')\n",
    "    .option('driver', 'org.sqlite.JDBC')\n",
    "    .option('dbtable', nome) # Lê a tabela inteira\n",
    "    #.option('query', 'SELECT * FROM user') # Retorna o resultado da consulta SQL\n",
    "    .load()\n",
    "    )\n",
    "\n",
    "# Lê as tabelas do banco\n",
    "usuarios = ler_tabela(\"user\")\n",
    "pedidos = ler_tabela(\"'order'\")\n",
    "itens = ler_tabela(\"order_item\")\n",
    "produtos = ler_tabela(\"product\")"
   ]
  },
  {
   "cell_type": "code",
   "execution_count": 5,
   "id": "53110b01",
   "metadata": {},
   "outputs": [
    {
     "name": "stdout",
     "output_type": "stream",
     "text": [
      "+---+-------+-------------------+---------+-----------+-------------------+----------------+\n",
      "| id|user_id|         order_date|   status|total_value|      creation_date|status_traduzido|\n",
      "+---+-------+-------------------+---------+-----------+-------------------+----------------+\n",
      "|  1|      1|2025-01-14 16:23:59|  shipped|    2362.35|2025-04-09 16:23:59|         ENVIADO|\n",
      "|  3|      1|2024-06-15 16:23:59|delivered|    1938.32|2025-04-09 16:23:59|        ENTREGUE|\n",
      "|  4|      1|2024-10-01 16:23:59|  shipped|    3670.62|2025-04-09 16:23:59|         ENVIADO|\n",
      "|  6|      1|2024-08-06 16:23:59| approved|     6138.1|2025-04-09 16:23:59|        APROVADO|\n",
      "|  9|      1|2025-02-03 16:23:59| approved|      984.0|2025-04-09 16:23:59|        APROVADO|\n",
      "| 10|      1|2025-03-05 16:23:59| approved|    3722.28|2025-04-09 16:23:59|        APROVADO|\n",
      "| 12|      1|2024-06-13 16:23:59| approved|    3044.49|2025-04-09 16:23:59|        APROVADO|\n",
      "| 13|      1|2024-06-20 16:23:59| approved|    3475.34|2025-04-09 16:23:59|        APROVADO|\n",
      "| 17|      1|2024-06-22 16:23:59|delivered|     766.52|2025-04-09 16:23:59|        ENTREGUE|\n",
      "| 18|      1|2024-12-20 16:23:59|delivered|     663.69|2025-04-09 16:23:59|        ENTREGUE|\n",
      "| 20|      1|2025-01-10 16:23:59|delivered|     2035.8|2025-04-09 16:23:59|        ENTREGUE|\n",
      "| 22|      1|2025-02-25 16:23:59| approved|     4159.2|2025-04-09 16:23:59|        APROVADO|\n",
      "| 26|      1|2024-09-11 16:23:59| approved|    3584.08|2025-04-09 16:23:59|        APROVADO|\n",
      "| 30|      1|2025-01-19 16:23:59| approved|     1446.4|2025-04-09 16:23:59|        APROVADO|\n",
      "| 31|      1|2024-04-22 16:23:59|delivered|    2573.52|2025-04-09 16:23:59|        ENTREGUE|\n",
      "| 32|      1|2024-12-14 16:23:59|  shipped|    4810.86|2025-04-09 16:23:59|         ENVIADO|\n",
      "| 33|      1|2024-06-12 16:23:59|  shipped|    7385.23|2025-04-09 16:23:59|         ENVIADO|\n",
      "| 34|      1|2025-01-20 16:23:59|delivered|      92.07|2025-04-09 16:23:59|        ENTREGUE|\n",
      "| 35|      1|2024-09-14 16:23:59|  shipped|     5778.3|2025-04-09 16:23:59|         ENVIADO|\n",
      "| 36|      1|2025-03-17 16:23:59| approved|    4017.64|2025-04-09 16:23:59|        APROVADO|\n",
      "+---+-------+-------------------+---------+-----------+-------------------+----------------+\n",
      "only showing top 20 rows\n",
      "\n"
     ]
    }
   ],
   "source": [
    "# Filtra pedidos com status válidos e traduz status\n",
    "pedidos_filtrados = pedidos.filter(\n",
    "    F.col(\"status\").isin(\"approved\", \"shipped\", \"delivered\")\n",
    ").withColumn(\n",
    "    \"status_traduzido\",\n",
    "    F.when(F.col(\"status\") == \"approved\", \"APROVADO\")\n",
    "    .when(F.col(\"status\") == \"shipped\", \"ENVIADO\")\n",
    "    .when(F.col(\"status\") == \"delivered\", \"ENTREGUE\")\n",
    ")\n",
    "\n",
    "pedidos_filtrados.show()"
   ]
  },
  {
   "cell_type": "code",
   "execution_count": null,
   "id": "e27664cc",
   "metadata": {},
   "outputs": [
    {
     "name": "stdout",
     "output_type": "stream",
     "text": [
      "+---------------+--------------------+---------+-------------------+----------------+-------------------+--------------+-----------------+-----------+\n",
      "|   nome_usuario|       email_usuario|id_pedido|        data_pedido|    nome_produto|quantidade_comprada|preco_unitario|categoria_produto|total_gasto|\n",
      "+---------------+--------------------+---------+-------------------+----------------+-------------------+--------------+-----------------+-----------+\n",
      "|Deborah Ramirez|joserodriguez@exa...|        1|2025-01-14 16:23:59|  Road newspaper|                  3|        787.45|           Sports|    2362.35|\n",
      "|Deborah Ramirez|joserodriguez@exa...|        3|2024-06-15 16:23:59|Specific article|                  2|        969.16|           Sports|    1938.32|\n",
      "|Deborah Ramirez|joserodriguez@exa...|        4|2024-10-01 16:23:59|  Road newspaper|                  3|        873.54|           Sports|    3670.62|\n",
      "|Deborah Ramirez|joserodriguez@exa...|        4|2024-10-01 16:23:59|Specific article|                  1|        1050.0|           Sports|    3670.62|\n",
      "|Deborah Ramirez|joserodriguez@exa...|        6|2024-08-06 16:23:59| Participant boy|                  2|        944.97|             Food|     6138.1|\n",
      "|Deborah Ramirez|joserodriguez@exa...|        6|2024-08-06 16:23:59|Specific article|                  2|        885.99|           Sports|     6138.1|\n",
      "|Deborah Ramirez|joserodriguez@exa...|        6|2024-08-06 16:23:59| Participant boy|                  1|        868.34|             Food|     6138.1|\n",
      "|Deborah Ramirez|joserodriguez@exa...|        6|2024-08-06 16:23:59|  Road newspaper|                  2|        803.92|           Sports|     6138.1|\n",
      "|Deborah Ramirez|joserodriguez@exa...|        9|2025-02-03 16:23:59|      Price ball|                  5|         196.8|     Home & Decor|      984.0|\n",
      "|Deborah Ramirez|joserodriguez@exa...|       10|2025-03-05 16:23:59|Specific article|                  4|        930.57|           Sports|    3722.28|\n",
      "|Deborah Ramirez|joserodriguez@exa...|       12|2024-06-13 16:23:59| Participant boy|                  3|       1014.83|             Food|    3044.49|\n",
      "|Deborah Ramirez|joserodriguez@exa...|       13|2024-06-20 16:23:59|  Road newspaper|                  2|        895.57|           Sports|    3475.34|\n",
      "|Deborah Ramirez|joserodriguez@exa...|       13|2024-06-20 16:23:59| Participant boy|                  1|         841.4|             Food|    3475.34|\n",
      "|Deborah Ramirez|joserodriguez@exa...|       13|2024-06-20 16:23:59|      Price ball|                  4|         210.7|     Home & Decor|    3475.34|\n",
      "|Deborah Ramirez|joserodriguez@exa...|       17|2024-06-22 16:23:59|      Price ball|                  4|        191.63|     Home & Decor|     766.52|\n",
      "|Deborah Ramirez|joserodriguez@exa...|       18|2024-12-20 16:23:59|      Price ball|                  3|        221.23|     Home & Decor|     663.69|\n",
      "|Deborah Ramirez|joserodriguez@exa...|       20|2025-01-10 16:23:59|  Road newspaper|                  2|        798.95|           Sports|     2035.8|\n",
      "|Deborah Ramirez|joserodriguez@exa...|       20|2025-01-10 16:23:59|     When minute|                  5|         87.58|      Electronics|     2035.8|\n",
      "|Deborah Ramirez|joserodriguez@exa...|       22|2025-02-25 16:23:59|  Road newspaper|                  3|        932.81|           Sports|     4159.2|\n",
      "|Deborah Ramirez|joserodriguez@exa...|       22|2025-02-25 16:23:59| Participant boy|                  1|        922.65|             Food|     4159.2|\n",
      "+---------------+--------------------+---------+-------------------+----------------+-------------------+--------------+-----------------+-----------+\n",
      "only showing top 20 rows\n",
      "\n"
     ]
    }
   ],
   "source": [
    "#Unir tabelas e selecionar colunas necessárias\n",
    "df_final = pedidos_filtrados.join(usuarios, pedidos_filtrados.user_id == usuarios.id, \"left\") \\\n",
    "    .join(itens, pedidos_filtrados.id == itens.order_id, \"left\") \\\n",
    "    .join(produtos, itens.product_id == produtos.id, \"left\") \\\n",
    "    .select(\n",
    "        usuarios[\"name\"].alias(\"nome_usuario\"),\n",
    "        usuarios[\"email\"].alias(\"email_usuario\"),\n",
    "        pedidos_filtrados[\"id\"].alias(\"id_pedido\"),\n",
    "        pedidos_filtrados[\"order_date\"].alias(\"data_pedido\"),\n",
    "        produtos[\"name\"].alias(\"nome_produto\"),\n",
    "        itens[\"quantity\"].alias(\"quantidade_comprada\"),\n",
    "        itens[\"unit_price\"].alias(\"preco_unitario\"),\n",
    "        produtos[\"category\"].alias(\"categoria_produto\"),\n",
    "        pedidos_filtrados[\"total_value\"].alias(\"total_gasto\")\n",
    "    )\n",
    "    \n",
    "df_final.show()"
   ]
  },
  {
   "cell_type": "code",
   "execution_count": null,
   "id": "10923a0b",
   "metadata": {},
   "outputs": [
    {
     "name": "stdout",
     "output_type": "stream",
     "text": [
      "+------------+--------------------+---------+-------------------+-----------------+-------------------+--------------+-----------------+-----------+---------------+\n",
      "|nome_usuario|       email_usuario|id_pedido|        data_pedido|     nome_produto|quantidade_comprada|preco_unitario|categoria_produto|total_gasto|ranking_usuario|\n",
      "+------------+--------------------+---------+-------------------+-----------------+-------------------+--------------+-----------------+-----------+---------------+\n",
      "| Brian Ortiz|christina00@examp...|      718|2024-09-06 11:07:49|     City machine|                  2|         44.17|           Sports|    5824.59|              1|\n",
      "| Brian Ortiz|christina00@examp...|      718|2024-09-06 11:07:49|  Participant boy|                  1|         910.5|             Food|    5824.59|              1|\n",
      "| Brian Ortiz|christina00@examp...|      718|2024-09-06 11:07:49|     Though watch|                  5|        965.15|             Food|    5824.59|              1|\n",
      "| Brian Ortiz|christina00@examp...|      663|2024-12-03 11:07:49|   Site religious|                  2|        734.23|     Home & Decor|    4497.58|              4|\n",
      "| Brian Ortiz|christina00@examp...|      663|2024-12-03 11:07:49|     Though watch|                  2|        981.86|             Food|    4497.58|              4|\n",
      "| Brian Ortiz|christina00@examp...|      663|2024-12-03 11:07:49|      When minute|                  1|         95.43|      Electronics|    4497.58|              4|\n",
      "| Brian Ortiz|christina00@examp...|      663|2024-12-03 11:07:49| Sort significant|                  1|        969.97|            Books|    4497.58|              4|\n",
      "| Brian Ortiz|christina00@examp...|      670|2024-08-30 11:07:49|      When minute|                  1|         91.63|      Electronics|    3215.83|              8|\n",
      "| Brian Ortiz|christina00@examp...|      670|2024-08-30 11:07:49|          Out yet|                  1|        310.31|             Food|    3215.83|              8|\n",
      "| Brian Ortiz|christina00@examp...|      670|2024-08-30 11:07:49|Republican middle|                  3|        365.53|         Clothing|    3215.83|              8|\n",
      "| Brian Ortiz|christina00@examp...|      670|2024-08-30 11:07:49|  Participant boy|                  2|        858.65|             Food|    3215.83|              8|\n",
      "| Brian Ortiz|christina00@examp...|      641|2024-04-19 11:07:49|       Product he|                  3|        282.89|      Electronics|    3094.38|             12|\n",
      "| Brian Ortiz|christina00@examp...|      641|2024-04-19 11:07:49|        Former do|                  1|        822.75|      Electronics|    3094.38|             12|\n",
      "| Brian Ortiz|christina00@examp...|      641|2024-04-19 11:07:49|Republican middle|                  4|        355.74|         Clothing|    3094.38|             12|\n",
      "| Brian Ortiz|christina00@examp...|      675|2024-07-05 11:07:49|       Product he|                  1|        277.14|      Electronics|    2553.97|             15|\n",
      "| Brian Ortiz|christina00@examp...|      675|2024-07-05 11:07:49|          Risk or|                  1|        373.03|     Home & Decor|    2553.97|             15|\n",
      "| Brian Ortiz|christina00@examp...|      675|2024-07-05 11:07:49|   Road newspaper|                  2|         839.9|           Sports|    2553.97|             15|\n",
      "| Brian Ortiz|christina00@examp...|      675|2024-07-05 11:07:49|     City machine|                  5|          44.8|           Sports|    2553.97|             15|\n",
      "| Brian Ortiz|christina00@examp...|      686|2024-07-30 11:07:49|     Though watch|                  2|        992.97|             Food|    2341.89|             19|\n",
      "| Brian Ortiz|christina00@examp...|      686|2024-07-30 11:07:49|         Arm area|                  1|        355.95|      Electronics|    2341.89|             19|\n",
      "+------------+--------------------+---------+-------------------+-----------------+-------------------+--------------+-----------------+-----------+---------------+\n",
      "only showing top 20 rows\n",
      "\n"
     ]
    }
   ],
   "source": [
    "#Criar ranking com base no total gasto por usuário\n",
    "window_spec = Window.partitionBy(\"nome_usuario\").orderBy(F.col(\"total_gasto\").desc())\n",
    "df_final = df_final.withColumn(\"ranking_usuario\", F.rank().over(window_spec))\n",
    "\n",
    "#Exibir os primeiros registros\n",
    "df_final.show()"
   ]
  },
  {
   "cell_type": "code",
   "execution_count": null,
   "id": "aa6e9d51",
   "metadata": {},
   "outputs": [],
   "source": [
    "#Salvar como Parquet para uso posterior\n",
    "df_final.write.mode(\"overwrite\").parquet(\"C:/dados-tcs-itau/4 - ecommerce/data/resultados/ranking_usuarios.parquet\")"
   ]
  },
  {
   "cell_type": "code",
   "execution_count": null,
   "id": "931b3611",
   "metadata": {},
   "outputs": [
    {
     "name": "stdout",
     "output_type": "stream",
     "text": [
      "+---------------+--------------------+---------+-------------------+---------------+-------------------+--------------+-----------------+-----------+---------------+\n",
      "|   nome_usuario|       email_usuario|id_pedido|        data_pedido|   nome_produto|quantidade_comprada|preco_unitario|categoria_produto|total_gasto|ranking_usuario|\n",
      "+---------------+--------------------+---------+-------------------+---------------+-------------------+--------------+-----------------+-----------+---------------+\n",
      "|Deborah Ramirez|joserodriguez@exa...|      275|2024-04-23 16:23:59| Road newspaper|                  2|        906.13|           Sports|    10511.2|              1|\n",
      "|     Lisa Lopez|  royray@example.org|      684|2024-04-22 11:07:49|        Risk or|                  3|        406.18|     Home & Decor|    5589.34|              1|\n",
      "|Deborah Ramirez|joserodriguez@exa...|      275|2024-04-23 16:23:59|Participant boy|                  3|       1024.91|             Food|    10511.2|              1|\n",
      "|    Brian Ortiz|christina00@examp...|      718|2024-09-06 11:07:49|Participant boy|                  1|         910.5|             Food|    5824.59|              1|\n",
      "|Deborah Ramirez|joserodriguez@exa...|      275|2024-04-23 16:23:59|     Price ball|                  3|        200.27|     Home & Decor|    10511.2|              1|\n",
      "+---------------+--------------------+---------+-------------------+---------------+-------------------+--------------+-----------------+-----------+---------------+\n",
      "\n"
     ]
    }
   ],
   "source": [
    "#Definir caminho do arquivo Parquet\n",
    "RESULTADO_PATH = r\"C:\\dados-tcs-itau\\4 - ecommerce\\data\\resultados\\ranking_usuarios.parquet\"\n",
    "\n",
    "#Ler o arquivo Parquet\n",
    "df_resultado = spark.read.parquet(RESULTADO_PATH)\n",
    "\n",
    "#Se quiser filtrar os TOP 5 usuários com maior gasto:\n",
    "df_top_5 = df_resultado.orderBy(\"ranking_usuario\").limit(5)\n",
    "df_top_5.show()"
   ]
  }
 ],
 "metadata": {
  "kernelspec": {
   "display_name": "Python 3",
   "language": "python",
   "name": "python3"
  },
  "language_info": {
   "codemirror_mode": {
    "name": "ipython",
    "version": 3
   },
   "file_extension": ".py",
   "mimetype": "text/x-python",
   "name": "python",
   "nbconvert_exporter": "python",
   "pygments_lexer": "ipython3",
   "version": "3.11.0"
  }
 },
 "nbformat": 4,
 "nbformat_minor": 5
}
