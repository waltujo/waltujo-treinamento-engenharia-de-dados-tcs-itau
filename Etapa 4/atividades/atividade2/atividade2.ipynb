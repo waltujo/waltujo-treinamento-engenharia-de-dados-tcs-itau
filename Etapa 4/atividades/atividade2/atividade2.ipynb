{
 "cells": [
  {
   "cell_type": "code",
   "execution_count": 1,
   "metadata": {},
   "outputs": [],
   "source": [
    "from pyspark.sql import SparkSession\n",
    "import pyspark.sql.functions as F\n",
    "\n",
    "spark = (\n",
    "    SparkSession\n",
    "    .builder\n",
    "    .config(\"spark.sql.warehouse.dir\", \"./temp\")\n",
    "    .master('local[*]')\n",
    "    .getOrCreate()\n",
    ")"
   ]
  },
  {
   "cell_type": "code",
   "execution_count": 5,
   "metadata": {},
   "outputs": [
    {
     "name": "stdout",
     "output_type": "stream",
     "text": [
      "+------------+----------+-----+--------------+-----------+\n",
      "|id_transacao|id_cliente|valor|data_transacao|  categoria|\n",
      "+------------+----------+-----+--------------+-----------+\n",
      "|           1|         1|100.0|    2023-11-01|    Compras|\n",
      "|           2|         2|200.0|    2023-11-02|Alimentação|\n",
      "|           3|         3|150.0|    2023-11-03|    Compras|\n",
      "|           4|         4|300.0|    2023-11-01|     Viagem|\n",
      "|           5|         5| 50.0|    2023-11-04|Alimentação|\n",
      "+------------+----------+-----+--------------+-----------+\n",
      "\n"
     ]
    }
   ],
   "source": [
    "df = spark.read.csv(r\"C:\\dados-tcs-itau\\Etapa 4\\dados\\transacoes.csv\", header=True, inferSchema=True)\n",
    "df.show()"
   ]
  },
  {
   "cell_type": "code",
   "execution_count": 10,
   "metadata": {},
   "outputs": [
    {
     "name": "stdout",
     "output_type": "stream",
     "text": [
      "+------------+----------+-----+--------------+-----------+-------------+\n",
      "|id_transacao|id_cliente|valor|data_transacao|  categoria|ano_transacao|\n",
      "+------------+----------+-----+--------------+-----------+-------------+\n",
      "|           1|         1|100.0|    2023-11-01|    Compras|         2023|\n",
      "|           2|         2|200.0|    2023-11-02|Alimentação|         2023|\n",
      "|           3|         3|150.0|    2023-11-03|    Compras|         2023|\n",
      "|           4|         4|300.0|    2023-11-01|     Viagem|         2023|\n",
      "|           5|         5| 50.0|    2023-11-04|Alimentação|         2023|\n",
      "+------------+----------+-----+--------------+-----------+-------------+\n",
      "\n"
     ]
    }
   ],
   "source": [
    "df.withColumn(\"ano_transacao\", F.year(F.col(\"data_transacao\")))\n",
    "df.show()"
   ]
  },
  {
   "cell_type": "code",
   "execution_count": 17,
   "metadata": {},
   "outputs": [
    {
     "name": "stdout",
     "output_type": "stream",
     "text": [
      "+-----------+-----------+-----------+\n",
      "|  categoria|valor_total|valor_medio|\n",
      "+-----------+-----------+-----------+\n",
      "|     Viagem|      300.0|      300.0|\n",
      "|    Compras|      250.0|      125.0|\n",
      "|Alimentação|      250.0|      125.0|\n",
      "+-----------+-----------+-----------+\n",
      "\n"
     ]
    }
   ],
   "source": [
    "df_resultado = df.groupBy(\"categoria\") \\\n",
    "    .agg(\n",
    "        F.sum(\"valor\").alias(\"valor_total\"),\n",
    "        F.avg(\"valor\").alias(\"valor_medio\")\n",
    "    ) \\\n",
    "    .orderBy(F.col(\"valor_total\").desc())\n",
    "    \n",
    "df_resultado.show()"
   ]
  }
 ],
 "metadata": {
  "kernelspec": {
   "display_name": "Python 3",
   "language": "python",
   "name": "python3"
  },
  "language_info": {
   "codemirror_mode": {
    "name": "ipython",
    "version": 3
   },
   "file_extension": ".py",
   "mimetype": "text/x-python",
   "name": "python",
   "nbconvert_exporter": "python",
   "pygments_lexer": "ipython3",
   "version": "3.11.0"
  }
 },
 "nbformat": 4,
 "nbformat_minor": 2
}
