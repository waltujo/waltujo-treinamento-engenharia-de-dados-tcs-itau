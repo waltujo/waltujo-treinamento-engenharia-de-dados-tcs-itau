{
 "cells": [
  {
   "cell_type": "code",
   "execution_count": 11,
   "metadata": {},
   "outputs": [],
   "source": [
    "from pyspark.sql import SparkSession\n",
    "import pyspark.sql.functions as F\n",
    "\n",
    "spark = (\n",
    "    SparkSession\n",
    "    .builder\n",
    "    .config(\"spark.sql.warehouse.dir\", \"./temp\")\n",
    "    .master('local[*]')\n",
    "    .getOrCreate()\n",
    ")"
   ]
  },
  {
   "cell_type": "code",
   "execution_count": 18,
   "metadata": {},
   "outputs": [
    {
     "name": "stdout",
     "output_type": "stream",
     "text": [
      "+------------+----------+-----+--------------+-----------+\n",
      "|id_transacao|id_cliente|valor|data_transacao|  categoria|\n",
      "+------------+----------+-----+--------------+-----------+\n",
      "|           1|         1|100.0|    2023-11-01|    Compras|\n",
      "|           2|         2|200.0|    2023-11-02|Alimentação|\n",
      "|           3|         3|150.0|    2023-11-03|    Compras|\n",
      "|           4|         4|300.0|    2023-11-01|     Viagem|\n",
      "|           5|         5| 50.0|    2023-11-04|Alimentação|\n",
      "+------------+----------+-----+--------------+-----------+\n",
      "\n",
      "+----------+-----+-----+--------------+\n",
      "|id_cliente| nome|idade|        cidade|\n",
      "+----------+-----+-----+--------------+\n",
      "|         1| João|   35|     São Paulo|\n",
      "|         2|Maria|   25|Rio de Janeiro|\n",
      "|         3| José|   40|      Curitiba|\n",
      "|         4|  Ana|   28|     São Paulo|\n",
      "|         5|Paulo|   50|Belo Horizonte|\n",
      "+----------+-----+-----+--------------+\n",
      "\n"
     ]
    }
   ],
   "source": [
    "df_transacoes = spark.read.csv(r\"C:\\dados-tcs-itau\\Etapa 4\\dados\\transacoes.csv\", header=True, inferSchema=True)\n",
    "df_transacoes.show()\n",
    "df_clientes = spark.read.csv(r\"C:\\dados-tcs-itau\\Etapa 4\\dados\\clientes.csv\", header=True, inferSchema=True)\n",
    "df_clientes.show()"
   ]
  },
  {
   "cell_type": "code",
   "execution_count": 13,
   "metadata": {},
   "outputs": [
    {
     "name": "stdout",
     "output_type": "stream",
     "text": [
      "+----------+------------+-----+--------------+-----------+-----+-----+--------------+\n",
      "|id_cliente|id_transacao|valor|data_transacao|  categoria| nome|idade|        cidade|\n",
      "+----------+------------+-----+--------------+-----------+-----+-----+--------------+\n",
      "|         1|           1|100.0|    2023-11-01|    Compras| João|   35|     São Paulo|\n",
      "|         2|           2|200.0|    2023-11-02|Alimentação|Maria|   25|Rio de Janeiro|\n",
      "|         3|           3|150.0|    2023-11-03|    Compras| José|   40|      Curitiba|\n",
      "|         4|           4|300.0|    2023-11-01|     Viagem|  Ana|   28|     São Paulo|\n",
      "|         5|           5| 50.0|    2023-11-04|Alimentação|Paulo|   50|Belo Horizonte|\n",
      "+----------+------------+-----+--------------+-----------+-----+-----+--------------+\n",
      "\n"
     ]
    }
   ],
   "source": [
    "df_join = df_transacoes.join(df_clientes, on=\"id_cliente\", how=\"inner\")\n",
    "df_join.show()"
   ]
  },
  {
   "cell_type": "code",
   "execution_count": 15,
   "metadata": {},
   "outputs": [
    {
     "name": "stdout",
     "output_type": "stream",
     "text": [
      "+----------+----------------+-----+-----+--------------+\n",
      "|id_cliente|total_transacoes| nome|idade|        cidade|\n",
      "+----------+----------------+-----+-----+--------------+\n",
      "|         1|           100.0| João|   35|     São Paulo|\n",
      "|         2|           200.0|Maria|   25|Rio de Janeiro|\n",
      "|         3|           150.0| José|   40|      Curitiba|\n",
      "|         4|           300.0|  Ana|   28|     São Paulo|\n",
      "|         5|            50.0|Paulo|   50|Belo Horizonte|\n",
      "+----------+----------------+-----+-----+--------------+\n",
      "\n"
     ]
    }
   ],
   "source": [
    "df_total_transacoes = df_transacoes.groupBy(\"id_cliente\") \\\n",
    "    .agg(F.sum(\"valor\").alias(\"total_transacoes\"))\n",
    "    \n",
    "df_resultado = df_total_transacoes.join(df_clientes, on=\"id_cliente\", how=\"inner\")\n",
    "    \n",
    "df_resultado.show()"
   ]
  },
  {
   "cell_type": "code",
   "execution_count": 20,
   "metadata": {},
   "outputs": [
    {
     "name": "stdout",
     "output_type": "stream",
     "text": [
      "+----------+----------------+----+-----+---------+\n",
      "|id_cliente|total_transacoes|nome|idade|   cidade|\n",
      "+----------+----------------+----+-----+---------+\n",
      "|         4|           300.0| Ana|   28|São Paulo|\n",
      "+----------+----------------+----+-----+---------+\n",
      "\n"
     ]
    }
   ],
   "source": [
    "df_maior_cliente = df_total_transacoes.orderBy(F.col(\"total_transacoes\").desc()).limit(1)\n",
    "\n",
    "#CASO TENHA MAIS DE UM CLIENTE COM O MESMO VALOR MÁXIMO\n",
    "df_maior_cliente = df_total_transacoes.filter(\n",
    "    F.col(\"total_transacoes\") == df_total_transacoes.agg(F.max(\"total_transacoes\")).collect()[0][0]\n",
    ")\n",
    "\n",
    "df_resultado = df_maior_cliente.join(df_clientes, on=\"id_cliente\", how=\"inner\")\n",
    "\n",
    "df_resultado.show()"
   ]
  }
 ],
 "metadata": {
  "kernelspec": {
   "display_name": "Python 3",
   "language": "python",
   "name": "python3"
  },
  "language_info": {
   "codemirror_mode": {
    "name": "ipython",
    "version": 3
   },
   "file_extension": ".py",
   "mimetype": "text/x-python",
   "name": "python",
   "nbconvert_exporter": "python",
   "pygments_lexer": "ipython3",
   "version": "3.11.0"
  }
 },
 "nbformat": 4,
 "nbformat_minor": 2
}
