{
 "cells": [
  {
   "cell_type": "code",
   "execution_count": 46,
   "metadata": {},
   "outputs": [],
   "source": [
    "from pyspark.sql import SparkSession\n",
    "import pyspark.sql.functions as F\n",
    "import pandas as pd\n",
    "import time\n",
    "\n",
    "spark = (\n",
    "    SparkSession\n",
    "    .builder\n",
    "    .config(\"spark.sql.warehouse.dir\", \"./temp\")\n",
    "    .master('local[*]')\n",
    "    .getOrCreate()\n",
    ")"
   ]
  },
  {
   "cell_type": "code",
   "execution_count": 30,
   "metadata": {},
   "outputs": [
    {
     "name": "stdout",
     "output_type": "stream",
     "text": [
      "+------------+----------+-----+--------------+-----------+\n",
      "|id_transacao|id_cliente|valor|data_transacao|  categoria|\n",
      "+------------+----------+-----+--------------+-----------+\n",
      "|           1|         1|100.0|    2023-11-01|    Compras|\n",
      "|           2|         2|200.0|    2023-11-02|Alimentação|\n",
      "|           3|         3|150.0|    2023-11-03|    Compras|\n",
      "|           4|         4|300.0|    2023-11-01|     Viagem|\n",
      "|           5|         5| 50.0|    2023-11-04|Alimentação|\n",
      "+------------+----------+-----+--------------+-----------+\n",
      "\n",
      "+----------+-----+-----+--------------+\n",
      "|id_cliente| nome|idade|        cidade|\n",
      "+----------+-----+-----+--------------+\n",
      "|         1| João|   35|     São Paulo|\n",
      "|         2|Maria|   25|Rio de Janeiro|\n",
      "|         3| José|   40|      Curitiba|\n",
      "|         4|  Ana|   28|     São Paulo|\n",
      "|         5|Paulo|   50|Belo Horizonte|\n",
      "+----------+-----+-----+--------------+\n",
      "\n"
     ]
    }
   ],
   "source": [
    "df_transacoes_spark = spark.read.csv(r\"C:\\dados-tcs-itau\\Etapa 4\\dados\\transacoes.csv\", header=True, inferSchema=True)\n",
    "df_transacoes_spark.show()\n",
    "\n",
    "df_clientes_spark = spark.read.csv(r\"C:\\dados-tcs-itau\\Etapa 4\\dados\\clientes.csv\", header=True, inferSchema=True)\n",
    "df_clientes_spark.show()"
   ]
  },
  {
   "cell_type": "code",
   "execution_count": 53,
   "metadata": {},
   "outputs": [
    {
     "name": "stdout",
     "output_type": "stream",
     "text": [
      "   id_transacao  id_cliente  valor data_transacao    categoria\n",
      "0             1           1  100.0     2023-11-01      Compras\n",
      "1             2           2  200.0     2023-11-02  Alimentação\n",
      "2             3           3  150.0     2023-11-03      Compras\n",
      "3             4           4  300.0     2023-11-01       Viagem\n",
      "4             5           5   50.0     2023-11-04  Alimentação\n",
      "\n",
      "   id_cliente   nome  idade          cidade\n",
      "0           1   João     35       São Paulo\n",
      "1           2  Maria     25  Rio de Janeiro\n",
      "2           3   José     40        Curitiba\n",
      "3           4    Ana     28       São Paulo\n",
      "4           5  Paulo     50  Belo Horizonte\n"
     ]
    }
   ],
   "source": [
    "df_transacoes_pandas = pd.read_csv(r\"C:\\dados-tcs-itau\\Etapa 4\\dados\\transacoes.csv\")\n",
    "print(df_transacoes_pandas)\n",
    "print()\n",
    "df_clientes_pandas = pd.read_csv(r\"C:\\dados-tcs-itau\\Etapa 4\\dados\\clientes.csv\")\n",
    "print(df_clientes_pandas)"
   ]
  },
  {
   "cell_type": "code",
   "execution_count": 52,
   "metadata": {},
   "outputs": [
    {
     "name": "stdout",
     "output_type": "stream",
     "text": [
      "+----------+-----+-----+--------------+\n",
      "|id_cliente| nome|idade|        cidade|\n",
      "+----------+-----+-----+--------------+\n",
      "|         1| João|   35|     São Paulo|\n",
      "|         3| José|   40|      Curitiba|\n",
      "|         5|Paulo|   50|Belo Horizonte|\n",
      "+----------+-----+-----+--------------+\n",
      "\n",
      "Tempo de execução com PySpark: 0.092539 segundos\n"
     ]
    }
   ],
   "source": [
    "start_time = time.time()\n",
    "df_clientes_spark.filter(df_clientes_spark[\"idade\"] > 30).show()\n",
    "end_time = time.time()\n",
    "print(f\"Tempo de execução com PySpark: {end_time - start_time:.6f} segundos\")"
   ]
  },
  {
   "cell_type": "code",
   "execution_count": 35,
   "metadata": {},
   "outputs": [
    {
     "name": "stdout",
     "output_type": "stream",
     "text": [
      "   id_cliente   nome  idade          cidade\n",
      "0           1   João     35       São Paulo\n",
      "2           3   José     40        Curitiba\n",
      "4           5  Paulo     50  Belo Horizonte\n"
     ]
    }
   ],
   "source": [
    "df = pd.DataFrame(df_clientes_pandas)\n",
    "clientes_30 = df[df[\"idade\"] > 30]\n",
    "print(clientes_30)"
   ]
  },
  {
   "cell_type": "code",
   "execution_count": 51,
   "metadata": {},
   "outputs": [
    {
     "name": "stdout",
     "output_type": "stream",
     "text": [
      "+-----------+-----------+-----------+\n",
      "|  categoria|valor_total|valor_medio|\n",
      "+-----------+-----------+-----------+\n",
      "|     Viagem|      300.0|      300.0|\n",
      "|    Compras|      250.0|      125.0|\n",
      "|Alimentação|      250.0|      125.0|\n",
      "+-----------+-----------+-----------+\n",
      "\n",
      "Tempo de execução com PySpark: 0.216827 segundos\n"
     ]
    }
   ],
   "source": [
    "start_time = time.time()\n",
    "\n",
    "df_resultado = df_transacoes_spark.groupBy(\"categoria\") \\\n",
    "    .agg(\n",
    "        F.sum(\"valor\").alias(\"valor_total\"),\n",
    "        F.avg(\"valor\").alias(\"valor_medio\")\n",
    "    ) \\\n",
    "    .orderBy(F.col(\"valor_total\").desc())\n",
    "    \n",
    "df_resultado.show()\n",
    "end_time = time.time()\n",
    "print(f\"Tempo de execução com PySpark: {end_time - start_time:.6f} segundos\")"
   ]
  },
  {
   "cell_type": "code",
   "execution_count": 50,
   "metadata": {},
   "outputs": [
    {
     "name": "stdout",
     "output_type": "stream",
     "text": [
      "             valor_total  valor_medio\n",
      "categoria                            \n",
      "Alimentação        250.0        125.0\n",
      "Compras            250.0        125.0\n",
      "Viagem             300.0        300.0\n",
      "Tempo de execução com Pandas: 0.007562 segundos\n"
     ]
    }
   ],
   "source": [
    "start_time = time.time()\n",
    "df = pd.DataFrame(df_transacoes_pandas)\n",
    "\n",
    "df_resultado = df.groupby(\"categoria\").agg(\n",
    "    valor_total=(\"valor\", \"sum\"),\n",
    "    valor_medio=(\"valor\", \"mean\")\n",
    ")\n",
    "\n",
    "print(df_resultado)\n",
    "end_time = time.time()\n",
    "print(f\"Tempo de execução com Pandas: {end_time - start_time:.6f} segundos\")"
   ]
  }
 ],
 "metadata": {
  "kernelspec": {
   "display_name": "Python 3",
   "language": "python",
   "name": "python3"
  },
  "language_info": {
   "codemirror_mode": {
    "name": "ipython",
    "version": 3
   },
   "file_extension": ".py",
   "mimetype": "text/x-python",
   "name": "python",
   "nbconvert_exporter": "python",
   "pygments_lexer": "ipython3",
   "version": "3.11.0"
  }
 },
 "nbformat": 4,
 "nbformat_minor": 2
}
