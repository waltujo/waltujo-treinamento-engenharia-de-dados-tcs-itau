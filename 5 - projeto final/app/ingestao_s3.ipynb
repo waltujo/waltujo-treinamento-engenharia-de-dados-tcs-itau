{
 "cells": [
  {
   "cell_type": "code",
   "execution_count": null,
   "id": "08b4d2ff",
   "metadata": {},
   "outputs": [],
   "source": [
    "import awswrangler as wr\n",
    "import pandas as pd\n",
    "from datetime import datetime\n",
    "\n",
    "S3_FILE_PATH = \"s3://recepcao-taxa-de-juros/interest_rate.csv\"\n",
    "\n",
    "S3_PARQUET_PATH = \"s3://walter-araujo-bucket-exemplo/interest_rate/\"\n",
    "\n",
    "DATABASE_NAME = \"walter_araujo_database_sor\"\n",
    "TABLE_NAME = \"interest_rate\"\n",
    "\n",
    "def main():\n",
    "    df = wr.s3.read_csv(path=S3_FILE_PATH, dtype=str)\n",
    "\n",
    "    df[\"data_ingestao\"] = datetime.now().strftime(\"%Y-%m-%d %H:%M:%S\")\n",
    "\n",
    "    wr.s3.to_parquet(\n",
    "        df=df,\n",
    "        path=S3_PARQUET_PATH,\n",
    "        dataset=True,\n",
    "        mode=\"overwrite\",\n",
    "        database=DATABASE_NAME,\n",
    "        table=TABLE_NAME,\n",
    "        dtype={col: \"string\" for col in df.columns}\n",
    "    )\n",
    "\n",
    "if __name__ == \"__main__\":\n",
    "    from traceback import format_exc\n",
    "    try:\n",
    "        main()\n",
    "    except Exception:\n",
    "        print(format_exc())\n",
    "        exit(1)\n"
   ]
  }
 ],
 "metadata": {
  "kernelspec": {
   "display_name": "Python 3",
   "language": "python",
   "name": "python3"
  },
  "language_info": {
   "codemirror_mode": {
    "name": "ipython",
    "version": 3
   },
   "file_extension": ".py",
   "mimetype": "text/x-python",
   "name": "python",
   "nbconvert_exporter": "python",
   "pygments_lexer": "ipython3",
   "version": "3.11.0"
  }
 },
 "nbformat": 4,
 "nbformat_minor": 5
}
