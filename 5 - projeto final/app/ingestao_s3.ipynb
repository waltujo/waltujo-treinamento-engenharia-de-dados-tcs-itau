{
 "cells": [
  {
   "cell_type": "code",
   "execution_count": null,
   "id": "08b4d2ff",
   "metadata": {},
   "outputs": [
    {
     "name": "stdout",
     "output_type": "stream",
     "text": [
      "  data_referencia porcentagem\n",
      "0      2025-04-16       31.73\n",
      "  data_referencia porcentagem        data_ingestao\n",
      "0      2025-04-16       31.73  2025-04-28 15:37:13\n",
      "Traceback (most recent call last):\n",
      "  File \"C:\\Users\\waltujo\\AppData\\Local\\Temp\\ipykernel_12140\\2318473112.py\", line 30, in <module>\n",
      "    main()\n",
      "  File \"C:\\Users\\waltujo\\AppData\\Local\\Temp\\ipykernel_12140\\2318473112.py\", line 17, in main\n",
      "    wr.s3.to_parquet(\n",
      "  File \"c:\\Users\\waltujo\\AppData\\Local\\Programs\\Python\\Python311\\Lib\\site-packages\\awswrangler\\_config.py\", line 712, in wrapper\n",
      "    return function(**args)\n",
      "           ^^^^^^^^^^^^^^^^\n",
      "  File \"c:\\Users\\waltujo\\AppData\\Local\\Programs\\Python\\Python311\\Lib\\site-packages\\awswrangler\\_utils.py\", line 179, in inner\n",
      "    return func(*args, **kwargs)\n",
      "           ^^^^^^^^^^^^^^^^^^^^^\n",
      "  File \"c:\\Users\\waltujo\\AppData\\Local\\Programs\\Python\\Python311\\Lib\\site-packages\\awswrangler\\s3\\_write_parquet.py\", line 723, in to_parquet\n",
      "    return strategy.write(\n",
      "           ^^^^^^^^^^^^^^^\n",
      "  File \"c:\\Users\\waltujo\\AppData\\Local\\Programs\\Python\\Python311\\Lib\\site-packages\\awswrangler\\s3\\_write.py\", line 400, in write\n",
      "    self._create_glue_table(**create_table_args)\n",
      "  File \"c:\\Users\\waltujo\\AppData\\Local\\Programs\\Python\\Python311\\Lib\\site-packages\\awswrangler\\s3\\_write_parquet.py\", line 290, in _create_glue_table\n",
      "    return _create_parquet_table(\n",
      "           ^^^^^^^^^^^^^^^^^^^^^^\n",
      "  File \"c:\\Users\\waltujo\\AppData\\Local\\Programs\\Python\\Python311\\Lib\\site-packages\\awswrangler\\catalog\\_create.py\", line 325, in _create_parquet_table\n",
      "    _create_table(\n",
      "  File \"c:\\Users\\waltujo\\AppData\\Local\\Programs\\Python\\Python311\\Lib\\site-packages\\awswrangler\\catalog\\_create.py\", line 172, in _create_table\n",
      "    client_glue.create_table(**args)\n",
      "  File \"c:\\Users\\waltujo\\AppData\\Local\\Programs\\Python\\Python311\\Lib\\site-packages\\botocore\\client.py\", line 570, in _api_call\n",
      "    return self._make_api_call(operation_name, kwargs)\n",
      "           ^^^^^^^^^^^^^^^^^^^^^^^^^^^^^^^^^^^^^^^^^^^\n",
      "  File \"c:\\Users\\waltujo\\AppData\\Local\\Programs\\Python\\Python311\\Lib\\site-packages\\botocore\\context.py\", line 123, in wrapper\n",
      "    return func(*args, **kwargs)\n",
      "           ^^^^^^^^^^^^^^^^^^^^^\n",
      "  File \"c:\\Users\\waltujo\\AppData\\Local\\Programs\\Python\\Python311\\Lib\\site-packages\\botocore\\client.py\", line 1031, in _make_api_call\n",
      "    raise error_class(parsed_response, operation_name)\n",
      "botocore.errorfactory.EntityNotFoundException: An error occurred (EntityNotFoundException) when calling the CreateTable operation: Database walter_araujo_database_sor not found.\n",
      "\n"
     ]
    }
   ],
   "source": [
    "import awswrangler as wr\n",
    "import pandas as pd\n",
    "from datetime import datetime\n",
    "\n",
    "S3_FILE_PATH = \"s3://recepcao-taxa-de-juros/interest_rate.csv\"\n",
    "\n",
    "S3_PARQUET_PATH = \"s3://walter-araujo-bucket-exemplo/interest_rate/\"\n",
    "\n",
    "DATABASE_NAME = \"walter_araujo_database_sor\"\n",
    "TABLE_NAME = \"interest_rate\"\n",
    "\n",
    "def main():\n",
    "    df = wr.s3.read_csv(path=S3_FILE_PATH, dtype=str)\n",
    "    print(df)\n",
    "    df[\"data_ingestao\"] = datetime.now().strftime(\"%Y-%m-%d %H:%M:%S\")\n",
    "    \n",
    "    print(df)\n",
    "    \n",
    "    wr.s3.to_parquet(\n",
    "        df=df,\n",
    "        path=S3_PARQUET_PATH,\n",
    "        dataset=True,\n",
    "        mode=\"overwrite\",\n",
    "        database=DATABASE_NAME,\n",
    "        table=TABLE_NAME,\n",
    "        dtype={col: \"string\" for col in df.columns}\n",
    "    )\n",
    "\n",
    "if __name__ == \"__main__\":\n",
    "    from traceback import format_exc\n",
    "    try:\n",
    "        main()\n",
    "    except Exception:\n",
    "        print(format_exc())\n",
    "        exit(1)\n"
   ]
  }
 ],
 "metadata": {
  "kernelspec": {
   "display_name": "Python 3",
   "language": "python",
   "name": "python3"
  },
  "language_info": {
   "codemirror_mode": {
    "name": "ipython",
    "version": 3
   },
   "file_extension": ".py",
   "mimetype": "text/x-python",
   "name": "python",
   "nbconvert_exporter": "python",
   "pygments_lexer": "ipython3",
   "version": "3.11.0"
  }
 },
 "nbformat": 4,
 "nbformat_minor": 5
}
